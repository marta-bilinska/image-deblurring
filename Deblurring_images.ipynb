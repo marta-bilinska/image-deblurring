{
  "nbformat": 4,
  "nbformat_minor": 0,
  "metadata": {
    "colab": {
      "name": "Deblurring_images.ipynb",
      "provenance": [],
      "collapsed_sections": []
    },
    "kernelspec": {
      "display_name": "Python 3",
      "name": "python3"
    }
  },
  "cells": [
    {
      "cell_type": "code",
      "metadata": {
        "id": "G3c5W78LLPE9"
      },
      "source": [
        "import numpy as np\n",
        "import cv2 as cv\n",
        "from google.colab.patches import cv2_imshow\n",
        "import matplotlib.pyplot as plt\n",
        "import math\n",
        "%matplotlib inline"
      ],
      "execution_count": null,
      "outputs": []
    },
    {
      "cell_type": "code",
      "metadata": {
        "colab": {
          "base_uri": "https://localhost:8080/"
        },
        "id": "eGPvKR4fejNy",
        "outputId": "95922568-45a4-4dab-b7aa-fde29c6bcec4"
      },
      "source": [
        "from google.colab import drive\n",
        "drive.mount('/content/drive')"
      ],
      "execution_count": null,
      "outputs": [
        {
          "output_type": "stream",
          "text": [
            "Drive already mounted at /content/drive; to attempt to forcibly remount, call drive.mount(\"/content/drive\", force_remount=True).\n"
          ],
          "name": "stdout"
        }
      ]
    },
    {
      "cell_type": "code",
      "metadata": {
        "id": "qyf4khqn5DbZ"
      },
      "source": [
        "resized_m, resized_n = 30, 30\n",
        "\n",
        "# Load images\n",
        "def load_image(image_path, new_m, new_n):\n",
        "  image = cv.imread(image_path)\n",
        "  image = cv.resize(image, (new_m, new_n))\n",
        "  cv2_imshow(image)\n",
        "  return image"
      ],
      "execution_count": null,
      "outputs": []
    },
    {
      "cell_type": "code",
      "metadata": {
        "id": "on2y0j0fn5w3"
      },
      "source": [
        "def image_to_vector(image_matrix, n, m):\n",
        "  image_vector = []\n",
        "  for k in range(n): # columns\n",
        "    for j in range(m): # rows\n",
        "      image_vector.append(image_matrix[k][j][0])\n",
        "  return image_vector"
      ],
      "execution_count": null,
      "outputs": []
    },
    {
      "cell_type": "code",
      "metadata": {
        "id": "W9brj86Io0Da"
      },
      "source": [
        "def out_of_focus_psf(k, l, r):\n",
        "  p = []\n",
        "  for i in range(r):\n",
        "    p_i = []\n",
        "    for j in range(r):\n",
        "      if (i-k)**2 + (j-l)**2 <= r**2:\n",
        "        p_i.append(1/(math.pi * r**2))\n",
        "      else:\n",
        "        p_i.append(0)\n",
        "    p.append(p_i)\n",
        "  return p"
      ],
      "execution_count": null,
      "outputs": []
    },
    {
      "cell_type": "code",
      "metadata": {
        "id": "MQvPXW4_oU2M"
      },
      "source": [
        "def gaussian_psf(k, l, s1, s2):\n",
        "  p = []\n",
        "  for i in range(s1):\n",
        "    p_i = []\n",
        "    for j in range(s2):\n",
        "      entry = np.exp(-1/2*(((i-k)/s1)**2 + ((j-l)/s2)**2))\n",
        "      p_i.append(entry)\n",
        "    p.append(p_i)\n",
        "  return p"
      ],
      "execution_count": null,
      "outputs": []
    },
    {
      "cell_type": "code",
      "metadata": {
        "id": "RNSIAtruwTei"
      },
      "source": [
        "def psf_to_vector(psf, n, m):\n",
        "  psf_vector = []\n",
        "  for k in range(n): # columns\n",
        "    for j in range(m): # rows\n",
        "      psf_vector.append(psf[j][k])\n",
        "  return psf_vector"
      ],
      "execution_count": null,
      "outputs": []
    },
    {
      "cell_type": "code",
      "metadata": {
        "id": "VH-EPg6Oy8_z"
      },
      "source": [
        "def construct_blurring_matrix(psf_vector, m, n):\n",
        "    A = []\n",
        "    l = len(psf_vector)\n",
        "    initial_index = l // 2 + 1\n",
        "\n",
        "    # For every row\n",
        "    for i in range(n):\n",
        "        if initial_index < l:\n",
        "            len_p = len(psf_vector[:initial_index])\n",
        "            row = list(reversed(psf_vector[:initial_index])) + [0 for j in range(n - len_p)]\n",
        "            A.append(row)\n",
        "            initial_index += 1\n",
        "\n",
        "        else:\n",
        "            shift = abs(l - initial_index)\n",
        "            len_p = len(psf_vector[:initial_index])\n",
        "            row = [0 for j in range(shift)] + list(reversed(psf_vector[:initial_index])) \\\n",
        "                  + [0 for j in range(n - len_p - shift)]\n",
        "            A.append(row[:n])\n",
        "            initial_index += 1\n",
        "\n",
        "    return A"
      ],
      "execution_count": null,
      "outputs": []
    },
    {
      "cell_type": "code",
      "metadata": {
        "id": "6XKTuqUZ6YVR"
      },
      "source": [
        "def vector_to_image(vector):\n",
        "  n = int(math.sqrt(len(vector)))\n",
        "  image_matrix = []\n",
        "  for i in range(n):\n",
        "    row = []\n",
        "    for j in range(i*n, (i+1)*n):\n",
        "      entry = vector[j]\n",
        "      row.append([entry for i in range(3)])\n",
        "    image_matrix.append(row)\n",
        "  return image_matrix"
      ],
      "execution_count": null,
      "outputs": []
    },
    {
      "cell_type": "code",
      "metadata": {
        "id": "i0uC9aQxE56m"
      },
      "source": [
        "def blur_image(path, psf_array):\n",
        "  dot_image = load_image(path, resized_m, resized_n)\n",
        "  x = image_to_vector(dot_image, resized_n, resized_m) # our original image\n",
        "  \n",
        "  blurring_matrix = construct_blurring_matrix(psf_array, resized_n**2, resized_m**2) # matrix A\n",
        "\n",
        "  blurred_vector = [i for i in np.matmul(blurring_matrix, x)]\n",
        "  blurred_image = vector_to_image(blurred_vector)\n",
        "  return blurred_vector, blurred_image, blurring_matrix"
      ],
      "execution_count": null,
      "outputs": []
    },
    {
      "cell_type": "code",
      "metadata": {
        "id": "UwL47uO7J3an"
      },
      "source": [
        "def write_image(image, new_image_path, resized_m, resized_n):\n",
        "  converted_image = cv.UMat(np.array(image, dtype=np.uint64))\n",
        "  resized = cv.resize(converted_image, (resized_n, resized_m))\n",
        "  cv.imwrite(new_image_path, resized)"
      ],
      "execution_count": null,
      "outputs": []
    },
    {
      "cell_type": "code",
      "metadata": {
        "id": "nlYRc1kuMX_K"
      },
      "source": [
        "def naive_deblur(blurring_image, blurred_vector):\n",
        "  blurring_inverse = np.linalg.inv(blurring_image)\n",
        "  x = np.matmul(blurring_inverse, blurred_vector) # x - original image, x = A^(-1)*b\n",
        "  x_matrix = vector_to_image(x)\n",
        "  return x_matrix\n",
        "\n",
        "# out-of-focus\n",
        "x_coordinate, y_coordinate, radius = 1, 1, 5\n",
        "psf_matrix = out_of_focus_psf(x_coordinate, y_coordinate, radius)\n",
        "\n",
        "# gaussian\n",
        "# x_coordinate, y_coordinate, s1, s2 = 15, 15, 10, 10\n",
        "# psf_matrix = gaussian_psf(x_coordinate, y_coordinate, s1, s2)\n",
        "\n",
        "psf_array = psf_to_vector(psf_matrix, 5, 5) # our psf array\n",
        "\n",
        "blurred_vector, blurred_image, blurring_matrix = blur_image('/root/dot_image.jpg', psf_array)\n",
        "write_image(blurred_image, '/root/blurred_dot_image.jpg', resized_n, resized_m)\n",
        "\n",
        "restored_dot_image = naive_deblur(blurring_matrix, blurred_vector)\n",
        "write_image(restored_dot_image, '/root/restored_dot_image.jpg', resized_m, resized_n)"
      ],
      "execution_count": null,
      "outputs": []
    },
    {
      "cell_type": "code",
      "metadata": {
        "id": "_qrtd6XPlZc5"
      },
      "source": [
        "def reconstruct(k, A, b):\n",
        "  U, s, V = np.linalg.svd(A)\n",
        "  A_inverse = np.matrix(U[:, :k]) * np.diag(1/s[:k]) * np.matrix(V[:k, :])\n",
        "  return np.asarray(np.matmul(A_inverse, b))[0]\n",
        "  \n"
      ],
      "execution_count": null,
      "outputs": []
    },
    {
      "cell_type": "code",
      "metadata": {
        "id": "2nOulRJ2l2mB"
      },
      "source": [
        "def truncated_reconstruction(blurring_matrix, blurred_vector, k):\n",
        "  xk = reconstruct(k, blurring_matrix, blurred_vector)\n",
        "  truncated = vector_to_image(xk)\n",
        "  return truncated\n",
        "\n",
        "blurred_vector, blurred_daisy, blurring_matrix = blur_image('/root/daisy.jpg', psf_array)\n",
        "write_image(blurred_daisy, '/root/blurred_daisy.jpg', resized_m, resized_n)\n",
        "\n",
        "k = 600\n",
        "truncated = truncated_reconstruction(blurring_matrix, blurred_vector, k)\n",
        "write_image(truncated, '/root/truncated_restored_daisy.jpg', resized_m, resized_n)\n",
        "\n",
        "naive_daisy_deblur = naive_deblur(blurring_matrix, blurred_vector)\n",
        "write_image(naive_daisy_deblur, '/root/naive_restored_daisy.jpg', resized_m, resized_n)"
      ],
      "execution_count": null,
      "outputs": []
    },
    {
      "cell_type": "code",
      "metadata": {
        "id": "9g1xMnibWX0T"
      },
      "source": [
        "def noising_the_vector(vector_):\n",
        "  n = len(vector_)\n",
        "  e = np.random.normal(size=n)\n",
        "  e = e/np.linalg.norm(e)\n",
        "  vector_ = vector_ + 0.01*np.linalg.norm(vector_)*e\n",
        "  return vector_\n"
      ],
      "execution_count": null,
      "outputs": []
    },
    {
      "cell_type": "code",
      "metadata": {
        "id": "6G5rISisYY6E"
      },
      "source": [
        "def noise_the_image(vector_):\n",
        "  noised_vector = noising_the_vector(vector_)\n",
        "  noised_image = vector_to_image(noised_vector)\n",
        "  return noised_image"
      ],
      "execution_count": null,
      "outputs": []
    },
    {
      "cell_type": "code",
      "metadata": {
        "id": "TkrA7JDPZUcc"
      },
      "source": [
        "def denoise_the_image(blurring_matrix, blurred_vector, k):\n",
        "  xk = reconstruct(k, blurring_matrix, blurred_vector)\n",
        "  truncated = vector_to_image(xk)\n",
        "  return truncated\n",
        "\n",
        "noised = noise_the_image(blurred_vector)\n",
        "write_image(noised, '/root/noised_daisy.jpg', resized_m, resized_n)\n",
        "\n",
        "k = 600\n",
        "truncated = denoise_the_image(blurring_matrix, blurred_vector, k)\n",
        "write_image(truncated, '/root/denoised_daisy.jpg', resized_m, resized_n)\n"
      ],
      "execution_count": null,
      "outputs": []
    }
  ]
}